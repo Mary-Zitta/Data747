{
 "cells": [
  {
   "attachments": {},
   "cell_type": "markdown",
   "metadata": {},
   "source": [
    "## Lab Assignment: Numerical Computing using NumPy\n",
    "Student:     **MARY-ZITTA MUABE**\n",
    "\n",
    "### Objective: To introduce numerical computing in Python using NumPy and understand NumPy arrays and operations.\n",
    "\n",
    "### Instructions:\n",
    "In this lab assignment, you will be introduced to numerical computing in Python using NumPy. You will learn how to create and manipulate NumPy arrays, perform mathematical operations on them, and apply built-in functions to analyze and transform the data.\n",
    "\n",
    "You will be provided with the following five problems to solve. Please read the problem statement carefully and implement the solution using NumPy.\n",
    "\n",
    "1. Create a 1D NumPy array of size 10, filled with zeros.\n",
    "2. Create a 2D NumPy array with shape (3, 4), filled with random values.\n",
    "3. Create a 3D NumPy array with shape (2, 3, 4), filled with ones.\n",
    "4. Add two NumPy arrays element-wise.\n",
    "5. Multiply two NumPy arrays element-wise.\n",
    "\n",
    "### Deliverable:\n",
    "Modify this notebook to include the python code as well as any documentation related to your submission.  Submit the notebook as your response in Blackboard.\n",
    "\n",
    "### Grading Criteria:\n",
    "\n",
    "Your lab assignment will be graded based on the following criteria:\n",
    "\n",
    "- Correctness of the implementation\n",
    "- Proper use of basic control structures and functions\n",
    "- Code efficiency\n",
    "- Clarity and readability of the code\n",
    "- Compliance with the instructions and deliverables.\n",
    "\n",
    "### Student Submission\n",
    "1. Create a 1D NumPy array of size 10, filled with zeros."
   ]
  },
  {
   "cell_type": "code",
   "execution_count": 35,
   "metadata": {},
   "outputs": [
    {
     "name": "stdout",
     "output_type": "stream",
     "text": [
      "[0. 0. 0. 0. 0. 0. 0. 0. 0. 0.]\n"
     ]
    }
   ],
   "source": [
    "import numpy as np\n",
    "arr = np.zeros(10)  # creates an array of 10 zeros\n",
    "print(arr)\n"
   ]
  },
  {
   "attachments": {},
   "cell_type": "markdown",
   "metadata": {},
   "source": [
    "2. Create a 2D NumPy array with shape (3, 4), filled with random values."
   ]
  },
  {
   "cell_type": "code",
   "execution_count": 36,
   "metadata": {},
   "outputs": [
    {
     "name": "stdout",
     "output_type": "stream",
     "text": [
      "[[ 3  6  9 12]\n",
      " [15 18 21 24]\n",
      " [27 30 33 36]]\n"
     ]
    }
   ],
   "source": [
    "import numpy as np\n",
    "\n",
    "arr = np.arange(1, 13).reshape(3, 4)\n",
    "arr = arr * np.random.randint(3, 4)\n",
    "print(arr)"
   ]
  },
  {
   "attachments": {},
   "cell_type": "markdown",
   "metadata": {},
   "source": [
    "3. Create a 3D NumPy array with shape (2, 3, 4), filled with ones."
   ]
  },
  {
   "cell_type": "code",
   "execution_count": 37,
   "metadata": {},
   "outputs": [
    {
     "name": "stdout",
     "output_type": "stream",
     "text": [
      "[[[1 1 1 1]\n",
      "  [1 1 1 1]\n",
      "  [1 1 1 1]]\n",
      "\n",
      " [[1 1 1 1]\n",
      "  [1 1 1 1]\n",
      "  [1 1 1 1]]]\n"
     ]
    }
   ],
   "source": [
    "import numpy as np\n",
    "arr = np.arange(1, 13).reshape(3, 4)\n",
    "arr = np.ones((2, 3, 4), dtype=int)\n",
    "print(arr)"
   ]
  },
  {
   "attachments": {},
   "cell_type": "markdown",
   "metadata": {},
   "source": [
    "4. Add two NumPy arrays element-wise."
   ]
  },
  {
   "cell_type": "code",
   "execution_count": 38,
   "metadata": {},
   "outputs": [
    {
     "name": "stdout",
     "output_type": "stream",
     "text": [
      "Array 1:\n",
      " [[1 2 3]\n",
      " [4 5 6]\n",
      " [7 8 9]]\n",
      "\n",
      "Array 2:\n",
      " [[10 11 12]\n",
      " [13 14 15]\n",
      " [16 17 18]]\n",
      "\n",
      "Element-wise Addition:\n",
      " [[11 13 15]\n",
      " [17 19 21]\n",
      " [23 25 27]]\n"
     ]
    }
   ],
   "source": [
    "import numpy as np\n",
    "a = np.arange(1, 10).reshape(3, 3)\n",
    "b = np.arange(10, 19).reshape(3, 3)\n",
    "\n",
    "# Element-wise addition\n",
    "result = a + b\n",
    "\n",
    "print(\"Array 1:\\n\", a)\n",
    "print(\"\\nArray 2:\\n\", b)\n",
    "print(\"\\nElement-wise Addition:\\n\", result)\n"
   ]
  },
  {
   "attachments": {},
   "cell_type": "markdown",
   "metadata": {},
   "source": [
    "5. Multiply two NumPy arrays element-wise."
   ]
  },
  {
   "cell_type": "code",
   "execution_count": 40,
   "metadata": {},
   "outputs": [
    {
     "name": "stdout",
     "output_type": "stream",
     "text": [
      "Array 1:\n",
      " [[1 2 3]\n",
      " [4 5 6]\n",
      " [7 8 9]]\n",
      "\n",
      "Array 2:\n",
      " [[10 11 12]\n",
      " [13 14 15]\n",
      " [16 17 18]]\n",
      "\n",
      "Element-wise Multiplication:\n",
      " [[ 10  22  36]\n",
      " [ 52  70  90]\n",
      " [112 136 162]]\n"
     ]
    }
   ],
   "source": [
    "import numpy as np\n",
    "a = np.arange(1, 10).reshape(3, 3)\n",
    "b = np.arange(10, 19).reshape(3, 3)\n",
    "\n",
    "result = a * b\n",
    "\n",
    "print(\"Array 1:\\n\", a)\n",
    "print(\"\\nArray 2:\\n\", b)\n",
    "print(\"\\nElement-wise Multiplication:\\n\", result)"
   ]
  },
  {
   "cell_type": "code",
   "execution_count": null,
   "metadata": {},
   "outputs": [],
   "source": []
  }
 ],
 "metadata": {
  "kernelspec": {
   "display_name": "base",
   "language": "python",
   "name": "python3"
  },
  "language_info": {
   "codemirror_mode": {
    "name": "ipython",
    "version": 3
   },
   "file_extension": ".py",
   "mimetype": "text/x-python",
   "name": "python",
   "nbconvert_exporter": "python",
   "pygments_lexer": "ipython3",
   "version": "3.13.5"
  },
  "orig_nbformat": 4
 },
 "nbformat": 4,
 "nbformat_minor": 2
}

{
 "cells": [
  {
   "attachments": {},
   "cell_type": "markdown",
   "metadata": {},
   "source": [
    "## Lab Assignment: Introduction to Pandas\n",
    "Student:     **MARY-ZITTA MUABE**\n",
    "\n",
    "### Objective: To introduce data manipulation and analysis in Python using Pandas and understand Pandas data structures and basic operations.\n",
    "\n",
    "### Instructions:\n",
    "In this lab assignment, you will be introduced to data manipulation and analysis in Python using Pandas. You will learn how to create and manipulate Pandas data structures, perform basic data analysis and cleaning operations, and apply built-in functions to analyze and transform the data.\n",
    "\n",
    "You will be provided with the following five problems to solve. Please read the problem statement carefully and implement the solution using Pandas.\n",
    "\n",
    "1. Read a CSV file into a Pandas DataFrame.\n",
    "2. Display the first 5 rows of a Pandas DataFrame.\n",
    "3. Display the last 5 rows of a Pandas DataFrame.\n",
    "4. Create a new column in a Pandas DataFrame by combining two existing columns.\n",
    "5. Group a Pandas DataFrame by a specific column and calculate the mean of another column for each group.\n",
    "\n",
    "### Deliverable:\n",
    "Modify this notebook to include the python code as well as any documentation related to your submission.  Submit the notebook as your response in Blackboard.\n",
    "\n",
    "### Grading Criteria:\n",
    "\n",
    "Your lab assignment will be graded based on the following criteria:\n",
    "\n",
    "- Correctness of the implementation\n",
    "- Proper use of basic control structures and functions\n",
    "- Code efficiency\n",
    "- Clarity and readability of the code\n",
    "- Compliance with the instructions and deliverables.\n",
    "\n",
    "### Student Submission\n",
    "1.  Read a CSV file into a Pandas DataFrame."
   ]
  },
  {
   "cell_type": "code",
   "execution_count": null,
   "metadata": {},
   "outputs": [
    {
     "name": "stdout",
     "output_type": "stream",
     "text": [
      "   StudentID     Name  Math  Science Class\n",
      "0          1    Alice    85       78     A\n",
      "1          2      Bob    90       88     A\n",
      "2          3  Charlie    70       65     B\n",
      "3          4    David    60       72     B\n",
      "4          5      Eva    95       92     A\n",
      "5          6    Frank    55       60     C\n",
      "6          7    Grace    80       85     C\n",
      "7          8   Hannah    88       90     B\n",
      "8          9      Ian    76       74     A\n",
      "9         10     Jane    82       79     C\n"
     ]
    }
   ],
   "source": [
    "import pandas as pd\n",
    "\n",
    "df = pd.read_csv('C:\\\\Users\\\\Mary\\\\OneDrive\\\\Data747\\\\Data747\\\\Week 4\\\\week4data.csv')\n",
    "print(df)"
   ]
  },
  {
   "attachments": {},
   "cell_type": "markdown",
   "metadata": {},
   "source": [
    "2.  Display the first 5 rows of a Pandas DataFrame."
   ]
  },
  {
   "cell_type": "code",
   "execution_count": null,
   "metadata": {},
   "outputs": [
    {
     "name": "stdout",
     "output_type": "stream",
     "text": [
      "   StudentID     Name  Math  Science Class\n",
      "0          1    Alice    85       78     A\n",
      "1          2      Bob    90       88     A\n",
      "2          3  Charlie    70       65     B\n",
      "3          4    David    60       72     B\n",
      "4          5      Eva    95       92     A\n"
     ]
    }
   ],
   "source": [
    "import pandas as pd\n",
    "\n",
    "df = pd.read_csv('C:\\\\Users\\\\Mary\\\\OneDrive\\\\Data747\\\\Data747\\\\Week 4\\\\week4data.csv')\n",
    "print(df.head())\n"
   ]
  },
  {
   "attachments": {},
   "cell_type": "markdown",
   "metadata": {},
   "source": [
    "3.  Display the last 5 rows of a Pandas DataFrame."
   ]
  },
  {
   "cell_type": "code",
   "execution_count": null,
   "metadata": {},
   "outputs": [
    {
     "name": "stdout",
     "output_type": "stream",
     "text": [
      "   StudentID    Name  Math  Science Class\n",
      "5          6   Frank    55       60     C\n",
      "6          7   Grace    80       85     C\n",
      "7          8  Hannah    88       90     B\n",
      "8          9     Ian    76       74     A\n",
      "9         10    Jane    82       79     C\n"
     ]
    }
   ],
   "source": [
    "import pandas as pd\n",
    "\n",
    "df = pd.read_csv('C:\\\\Users\\\\Mary\\\\OneDrive\\\\Data747\\\\Data747\\\\Week 4\\\\week4data.csv')\n",
    "print(df.tail())\n"
   ]
  },
  {
   "attachments": {},
   "cell_type": "markdown",
   "metadata": {},
   "source": [
    "4.  Create a new column in a Pandas DataFrame by combining two existing columns."
   ]
  },
  {
   "cell_type": "code",
   "execution_count": null,
   "metadata": {},
   "outputs": [
    {
     "name": "stdout",
     "output_type": "stream",
     "text": [
      "   StudentID     Name  Math  Science Class  Total\n",
      "0          1    Alice    85       78     A    163\n",
      "1          2      Bob    90       88     A    178\n",
      "2          3  Charlie    70       65     B    135\n",
      "3          4    David    60       72     B    132\n",
      "4          5      Eva    95       92     A    187\n",
      "5          6    Frank    55       60     C    115\n",
      "6          7    Grace    80       85     C    165\n",
      "7          8   Hannah    88       90     B    178\n",
      "8          9      Ian    76       74     A    150\n",
      "9         10     Jane    82       79     C    161\n"
     ]
    }
   ],
   "source": [
    "import pandas as pd\n",
    "\n",
    "df = pd.read_csv('C:\\\\Users\\\\Mary\\\\OneDrive\\\\Data747\\\\Data747\\\\Week 4\\\\week4data.csv')\n",
    "df['Total'] = df['Math'] + df['Science']\n",
    "print(df)\n"
   ]
  },
  {
   "attachments": {},
   "cell_type": "markdown",
   "metadata": {},
   "source": [
    "5.  Group a Pandas DataFrame by a specific column and calculate the mean of another column for each group."
   ]
  },
  {
   "cell_type": "code",
   "execution_count": null,
   "metadata": {},
   "outputs": [
    {
     "name": "stdout",
     "output_type": "stream",
     "text": [
      "Class\n",
      "A    86.500000\n",
      "B    72.666667\n",
      "C    72.333333\n",
      "Name: Math, dtype: float64\n"
     ]
    }
   ],
   "source": [
    "import pandas as pd\n",
    "\n",
    "df = pd.read_csv('C:\\\\Users\\\\Mary\\\\OneDrive\\\\Data747\\\\Data747\\\\Week 4\\\\week4data.csv')\n",
    "grouped = df.groupby('Class')['Math'].mean()\n",
    "print(grouped)\n"
   ]
  }
 ],
 "metadata": {
  "kernelspec": {
   "display_name": "base",
   "language": "python",
   "name": "python3"
  },
  "language_info": {
   "codemirror_mode": {
    "name": "ipython",
    "version": 3
   },
   "file_extension": ".py",
   "mimetype": "text/x-python",
   "name": "python",
   "nbconvert_exporter": "python",
   "pygments_lexer": "ipython3",
   "version": "3.13.5"
  },
  "orig_nbformat": 4
 },
 "nbformat": 4,
 "nbformat_minor": 2
}

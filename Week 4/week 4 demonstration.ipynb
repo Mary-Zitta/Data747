{
 "cells": [
  {
   "attachments": {},
   "cell_type": "markdown",
   "metadata": {},
   "source": [
    "## Lab Assignment: Introduction to Pandas \n",
    "\n",
    "### Objective: To introduce data manipulation and analysis in Python using Pandas and understand Pandas data structures and basic operations.\n",
    "\n",
    "### Instructions:\n",
    "In this lab assignment, you will be introduced to data manipulation and analysis in Python using Pandas. You will learn how to create and manipulate Pandas data structures, perform basic data analysis and cleaning operations, and apply built-in functions to analyze and transform the data.\n",
    "\n",
    "You will be provided with the following five problems to solve. Please read the problem statement carefully and implement the solution using Pandas.\n",
    "\n",
    "1. Sort a Pandas DataFrame by a specific column in ascending order.\n",
    "2. Remove duplicates from a Pandas DataFrame.\n",
    "3. Filter a Pandas DataFrame based on a condition.\n",
    "4. Apply a user-defined function to a Pandas DataFrame.\n",
    "5. \n",
    "\n",
    "### Deliverables:\n",
    "\n",
    "1. A Python file containing the four functions/programs.\n",
    "2. A text file containing sample inputs and outputs for each function/program.\n",
    "\n",
    "### Grading Criteria:\n",
    "\n",
    "1. Correctness and functionality of each function/program\n",
    "2. Proper use of basic control structures and functions\n",
    "3. Code readability and organization\n",
    "4. Note: Students are encouraged to work collaboratively, but each student must submit their own work. In addition, students should utilize version control (e.g. GitHub) to  manage their code and collaborate with peers."
   ]
  },
  {
   "attachments": {},
   "cell_type": "markdown",
   "metadata": {},
   "source": [
    "Sort a Pandas DataFrame by a specific column in ascending order."
   ]
  },
  {
   "cell_type": "code",
   "execution_count": 13,
   "metadata": {},
   "outputs": [
    {
     "name": "stdout",
     "output_type": "stream",
     "text": [
      "    Column_1  Column_2  Column_3\n",
      "0         10        20        30\n",
      "1         20        30        40\n",
      "2         30        40        50\n",
      "3         40        50        60\n",
      "4         50        60        70\n",
      "5         60        70        80\n",
      "6         70        80        90\n",
      "7         80        90       100\n",
      "8         90       100       110\n",
      "9        100       110       120\n",
      "10       110       120       130\n",
      "11       120       130       140\n",
      "12       130       140       150\n",
      "13       140       150       160\n",
      "14       150       160       170\n",
      "15       160       170       180\n",
      "16       170       180       190\n",
      "17       180       190       200\n",
      "18       190       200       210\n",
      "19       200       210       220\n",
      "20       210       220       230\n",
      "21       220       230       240\n",
      "22       230       240       250\n",
      "23       240       250       260\n",
      "24       250       260       270\n",
      "25       260       270       280\n",
      "26       270       280       290\n",
      "27       280       290       300\n",
      "28       290       300       310\n",
      "29       300       310       320\n",
      "30       310       320       330\n",
      "31       320       330       340\n",
      "32       330       340       350\n",
      "33       340       350       360\n",
      "34       350       360       370\n",
      "35       360       370       380\n"
     ]
    }
   ],
   "source": [
    "import pandas as pd\n",
    "\n",
    "df = pd.read_csv('p:\\\\Python Programming and Data Analysis\\\\data\\\\data.csv')\n",
    "sorted_df = df.sort_values('column_name')\n",
    "print(sorted_df)"
   ]
  },
  {
   "attachments": {},
   "cell_type": "markdown",
   "metadata": {},
   "source": [
    "Remove duplicates from a Pandas DataFrame."
   ]
  },
  {
   "cell_type": "code",
   "execution_count": 11,
   "metadata": {},
   "outputs": [
    {
     "name": "stdout",
     "output_type": "stream",
     "text": [
      "    Column_1  Column_2  Column_3\n",
      "0         10        20        30\n",
      "1         20        30        40\n",
      "2         30        40        50\n",
      "3         40        50        60\n",
      "4         50        60        70\n",
      "5         60        70        80\n",
      "6         70        80        90\n",
      "7         80        90       100\n",
      "8         90       100       110\n",
      "9        100       110       120\n",
      "10       110       120       130\n",
      "11       120       130       140\n",
      "12       130       140       150\n",
      "13       140       150       160\n",
      "14       150       160       170\n",
      "15       160       170       180\n",
      "16       170       180       190\n",
      "17       180       190       200\n",
      "18       190       200       210\n",
      "19       200       210       220\n",
      "20       210       220       230\n",
      "21       220       230       240\n",
      "22       230       240       250\n",
      "23       240       250       260\n",
      "24       250       260       270\n",
      "25       260       270       280\n",
      "26       270       280       290\n",
      "27       280       290       300\n",
      "28       290       300       310\n",
      "29       300       310       320\n",
      "30       310       320       330\n",
      "31       320       330       340\n",
      "32       330       340       350\n",
      "33       340       350       360\n",
      "34       350       360       370\n",
      "35       360       370       380\n"
     ]
    }
   ],
   "source": [
    "import pandas as pd\n",
    "\n",
    "df = pd.read_csv('p:\\\\Python Programming and Data Analysis\\\\data\\\\data.csv')\n",
    "deduplicated_df = df.drop_duplicates()\n",
    "print(deduplicated_df)"
   ]
  },
  {
   "attachments": {},
   "cell_type": "markdown",
   "metadata": {},
   "source": [
    "Filter a Pandas DataFrame based on a condition."
   ]
  },
  {
   "cell_type": "code",
   "execution_count": 14,
   "metadata": {},
   "outputs": [
    {
     "name": "stdout",
     "output_type": "stream",
     "text": [
      "    Column_1  Column_2  Column_3\n",
      "5         60        70        80\n",
      "6         70        80        90\n",
      "7         80        90       100\n",
      "8         90       100       110\n",
      "9        100       110       120\n",
      "10       110       120       130\n",
      "11       120       130       140\n",
      "12       130       140       150\n",
      "13       140       150       160\n",
      "14       150       160       170\n",
      "15       160       170       180\n",
      "16       170       180       190\n",
      "17       180       190       200\n",
      "18       190       200       210\n",
      "19       200       210       220\n",
      "20       210       220       230\n",
      "21       220       230       240\n",
      "22       230       240       250\n",
      "23       240       250       260\n",
      "24       250       260       270\n",
      "25       260       270       280\n",
      "26       270       280       290\n",
      "27       280       290       300\n",
      "28       290       300       310\n",
      "29       300       310       320\n",
      "30       310       320       330\n",
      "31       320       330       340\n",
      "32       330       340       350\n",
      "33       340       350       360\n",
      "34       350       360       370\n",
      "35       360       370       380\n"
     ]
    }
   ],
   "source": [
    "import pandas as pd\n",
    "\n",
    "df = pd.read_csv('p:\\\\Python Programming and Data Analysis\\\\data\\\\data.csv')\n",
    "filtered_df = df[df['column_name'] > 50]\n",
    "print(filtered_df)"
   ]
  },
  {
   "attachments": {},
   "cell_type": "markdown",
   "metadata": {},
   "source": [
    "Apply a user-defined function to a Pandas DataFrame."
   ]
  },
  {
   "cell_type": "code",
   "execution_count": 15,
   "metadata": {},
   "outputs": [
    {
     "name": "stdout",
     "output_type": "stream",
     "text": [
      "    Column_1  Column_2  Column_3\n",
      "0        100       400       900\n",
      "1        400       900      1600\n",
      "2        900      1600      2500\n",
      "3       1600      2500      3600\n",
      "4       2500      3600      4900\n",
      "5       3600      4900      6400\n",
      "6       4900      6400      8100\n",
      "7       6400      8100     10000\n",
      "8       8100     10000     12100\n",
      "9      10000     12100     14400\n",
      "10     12100     14400     16900\n",
      "11     14400     16900     19600\n",
      "12     16900     19600     22500\n",
      "13     19600     22500     25600\n",
      "14     22500     25600     28900\n",
      "15     25600     28900     32400\n",
      "16     28900     32400     36100\n",
      "17     32400     36100     40000\n",
      "18     36100     40000     44100\n",
      "19     40000     44100     48400\n",
      "20     44100     48400     52900\n",
      "21     48400     52900     57600\n",
      "22     52900     57600     62500\n",
      "23     57600     62500     67600\n",
      "24     62500     67600     72900\n",
      "25     67600     72900     78400\n",
      "26     72900     78400     84100\n",
      "27     78400     84100     90000\n",
      "28     84100     90000     96100\n",
      "29     90000     96100    102400\n",
      "30     96100    102400    108900\n",
      "31    102400    108900    115600\n",
      "32    108900    115600    122500\n",
      "33    115600    122500    129600\n",
      "34    122500    129600    136900\n",
      "35    129600    136900    144400\n"
     ]
    }
   ],
   "source": [
    "import pandas as pd\n",
    "\n",
    "df = pd.read_csv('p:\\\\Python Programming and Data Analysis\\\\data\\\\data.csv')\n",
    "\n",
    "def my_function(x):\n",
    "    return x ** 2\n",
    "\n",
    "new_df = df.apply(my_function)\n",
    "print(new_df)"
   ]
  },
  {
   "attachments": {},
   "cell_type": "markdown",
   "metadata": {},
   "source": [
    "Merge two Pandas DataFrames based on a common column."
   ]
  },
  {
   "cell_type": "code",
   "execution_count": 20,
   "metadata": {},
   "outputs": [
    {
     "name": "stdout",
     "output_type": "stream",
     "text": [
      "    column_name1  column_name2_x  column_name3_x  column_name2_y  \\\n",
      "0             10              20              30              20   \n",
      "1             20              30              40              30   \n",
      "2             30              40              50              40   \n",
      "3             40              50              60              50   \n",
      "4             50              60              70              60   \n",
      "5             60              70              80              70   \n",
      "6             70              80              90              80   \n",
      "7             80              90             100              90   \n",
      "8             90             100             110             100   \n",
      "9            100             110             120             110   \n",
      "10           110             120             130             120   \n",
      "11           120             130             140             130   \n",
      "12           130             140             150             140   \n",
      "13           140             150             160             150   \n",
      "14           150             160             170             160   \n",
      "15           160             170             180             170   \n",
      "16           170             180             190             180   \n",
      "17           180             190             200             190   \n",
      "18           190             200             210             200   \n",
      "19           200             210             220             210   \n",
      "20           210             220             230             220   \n",
      "21           220             230             240             230   \n",
      "22           230             240             250             240   \n",
      "23           240             250             260             250   \n",
      "24           250             260             270             260   \n",
      "25           260             270             280             270   \n",
      "26           270             280             290             280   \n",
      "27           280             290             300             290   \n",
      "28           290             300             310             300   \n",
      "29           300             310             320             310   \n",
      "30           310             320             330             320   \n",
      "31           320             330             340             330   \n",
      "32           330             340             350             340   \n",
      "33           340             350             360             350   \n",
      "34           350             360             370             360   \n",
      "35           360             370             380             370   \n",
      "\n",
      "    column_name3_y  \n",
      "0               30  \n",
      "1               40  \n",
      "2               50  \n",
      "3               60  \n",
      "4               70  \n",
      "5               80  \n",
      "6               90  \n",
      "7              100  \n",
      "8              110  \n",
      "9              120  \n",
      "10             130  \n",
      "11             140  \n",
      "12             150  \n",
      "13             160  \n",
      "14             170  \n",
      "15             180  \n",
      "16             190  \n",
      "17             200  \n",
      "18             210  \n",
      "19             220  \n",
      "20             230  \n",
      "21             240  \n",
      "22             250  \n",
      "23             260  \n",
      "24             270  \n",
      "25             280  \n",
      "26             290  \n",
      "27             300  \n",
      "28             310  \n",
      "29             320  \n",
      "30             330  \n",
      "31             340  \n",
      "32             350  \n",
      "33             360  \n",
      "34             370  \n",
      "35             380  \n"
     ]
    }
   ],
   "source": [
    "import pandas as pd\n",
    "\n",
    "df1 = pd.read_csv('p:\\\\Python Programming and Data Analysis\\\\data\\\\data1.csv')\n",
    "df2 = pd.read_csv('p:\\\\Python Programming and Data Analysis\\\\data\\\\data2.csv')\n",
    "\n",
    "merged_df = pd.merge(df1, df2, on='column_name1')\n",
    "print(merged_df)"
   ]
  },
  {
   "cell_type": "code",
   "execution_count": null,
   "metadata": {},
   "outputs": [],
   "source": []
  }
 ],
 "metadata": {
  "kernelspec": {
   "display_name": "Python 3",
   "language": "python",
   "name": "python3"
  },
  "language_info": {
   "codemirror_mode": {
    "name": "ipython",
    "version": 3
   },
   "file_extension": ".py",
   "mimetype": "text/x-python",
   "name": "python",
   "nbconvert_exporter": "python",
   "pygments_lexer": "ipython3",
   "version": "3.10.0"
  },
  "orig_nbformat": 4
 },
 "nbformat": 4,
 "nbformat_minor": 2
}

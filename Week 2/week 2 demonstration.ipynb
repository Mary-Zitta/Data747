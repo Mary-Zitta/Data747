{
 "cells": [
  {
   "attachments": {},
   "cell_type": "markdown",
   "metadata": {},
   "source": [
    "## Lab Assignment: Implementing Basic Control Structures and Functions\n",
    "\n",
    "### Objective: To apply knowledge of basic control structures and functions in Python.\n",
    "\n",
    "### Instructions:\n",
    "\n",
    "1. Write a Python function that takes in a list of integers and returns the sum of all the even numbers in the list.\n",
    "2. Write a Python function that takes in a list of strings and returns a new list containing only the strings that have length greater than 5.\n",
    "3. Write a Python function that takes in a string and checks whether it is a palindrome (i.e. reads the same backwards as forwards).\n",
    "4. Write a Python program that asks the user to enter a number, and then prints all the numbers from 1 to that number, along with whether each number is odd or even.\n",
    "\n",
    "### Deliverables:\n",
    "\n",
    "1. A Python file containing the four functions/programs.\n",
    "2. A text file containing sample inputs and outputs for each function/program.\n",
    "\n",
    "### Grading Criteria:\n",
    "\n",
    "1. Correctness and functionality of each function/program\n",
    "2. Proper use of basic control structures and functions\n",
    "3. Code readability and organization\n",
    "4. Note: Students are encouraged to work collaboratively, but each student must submit their own work. In addition, students should utilize version control (e.g. GitHub) to  manage their code and collaborate with peers."
   ]
  },
  {
   "attachments": {},
   "cell_type": "markdown",
   "metadata": {},
   "source": [
    "Write a Python function that takes in a list of integers and returns the sum of all the even numbers in the list."
   ]
  },
  {
   "cell_type": "code",
   "execution_count": 1,
   "metadata": {},
   "outputs": [
    {
     "name": "stdout",
     "output_type": "stream",
     "text": [
      "30\n"
     ]
    }
   ],
   "source": [
    "def sum_even_numbers(numbers):\n",
    "    sum_even = 0\n",
    "    for num in numbers:\n",
    "        if num % 2 == 0:\n",
    "            sum_even += num\n",
    "    return sum_even\n",
    "\n",
    "# Example usage\n",
    "numbers = [1, 2, 3, 4, 5, 6, 7, 8, 9, 10]\n",
    "print(sum_even_numbers(numbers)) # Output: 30"
   ]
  },
  {
   "attachments": {},
   "cell_type": "markdown",
   "metadata": {},
   "source": [
    "Write a Python function that takes in a list of strings and returns a new list containing only the strings that have length greater than 5."
   ]
  },
  {
   "cell_type": "code",
   "execution_count": 2,
   "metadata": {},
   "outputs": [
    {
     "name": "stdout",
     "output_type": "stream",
     "text": [
      "['banana', 'cherry', 'dragonfruit', 'eggplant']\n"
     ]
    }
   ],
   "source": [
    "def filter_long_strings(strings):\n",
    "    long_strings = []\n",
    "    for string in strings:\n",
    "        if len(string) > 5:\n",
    "            long_strings.append(string)\n",
    "    return long_strings\n",
    "\n",
    "# Example usage\n",
    "strings = ['apple', 'banana', 'cherry', 'dragonfruit', 'eggplant']\n",
    "print(filter_long_strings(strings)) # Output: ['dragonfruit', 'eggplant']"
   ]
  },
  {
   "attachments": {},
   "cell_type": "markdown",
   "metadata": {},
   "source": [
    "Write a Python function that takes in a string and checks whether it is a palindrome (i.e. reads the same backwards as forwards)."
   ]
  },
  {
   "cell_type": "code",
   "execution_count": 3,
   "metadata": {},
   "outputs": [
    {
     "name": "stdout",
     "output_type": "stream",
     "text": [
      "True\n",
      "False\n"
     ]
    }
   ],
   "source": [
    "def is_palindrome(string):\n",
    "    return string == string[::-1]\n",
    "\n",
    "# Example usage\n",
    "string1 = 'racecar'\n",
    "string2 = 'hello'\n",
    "print(is_palindrome(string1)) # Output: True\n",
    "print(is_palindrome(string2)) # Output: False"
   ]
  },
  {
   "attachments": {},
   "cell_type": "markdown",
   "metadata": {},
   "source": [
    "Write a Python program that asks the user to enter a number, and then prints all the numbers from 1 to that number, along with whether each number is odd or even."
   ]
  },
  {
   "cell_type": "code",
   "execution_count": 4,
   "metadata": {},
   "outputs": [
    {
     "name": "stdout",
     "output_type": "stream",
     "text": [
      "1 is odd\n",
      "2 is even\n",
      "3 is odd\n",
      "4 is even\n"
     ]
    }
   ],
   "source": [
    "n = int(input(\"Enter a number: \"))\n",
    "for i in range(1, n+1):\n",
    "    if i % 2 == 0:\n",
    "        print(i, \"is even\")\n",
    "    else:\n",
    "        print(i, \"is odd\")\n",
    "\n",
    "# Example output for n = 5:\n",
    "# 1 is odd\n",
    "# 2 is even\n",
    "# 3 is odd\n",
    "# 4 is even\n",
    "# 5 is odd"
   ]
  }
 ],
 "metadata": {
  "kernelspec": {
   "display_name": "Python 3",
   "language": "python",
   "name": "python3"
  },
  "language_info": {
   "codemirror_mode": {
    "name": "ipython",
    "version": 3
   },
   "file_extension": ".py",
   "mimetype": "text/x-python",
   "name": "python",
   "nbconvert_exporter": "python",
   "pygments_lexer": "ipython3",
   "version": "3.10.0"
  },
  "orig_nbformat": 4
 },
 "nbformat": 4,
 "nbformat_minor": 2
}

{
 "cells": [
  {
   "cell_type": "markdown",
   "id": "5f0caef3",
   "metadata": {},
   "source": [
    "Mary-Zitta Muabe Week 1 submission"
   ]
  },
  {
   "cell_type": "code",
   "execution_count": null,
   "id": "a65b526d",
   "metadata": {
    "vscode": {
     "languageId": "plaintext"
    }
   },
   "outputs": [],
   "source": []
  }
 ],
 "metadata": {
  "language_info": {
   "name": "python"
  }
 },
 "nbformat": 4,
 "nbformat_minor": 5
}

{
 "cells": [
  {
   "attachments": {},
   "cell_type": "markdown",
   "metadata": {},
   "source": [
    "## Lab Assignment: Sample Format for New Jupyter Notebook\n",
    "Student:     **INSERT YOUR NAME HERE**\n",
    "\n",
    "### Objective: To demonstrate the ability to create a Jupyter notebook\n",
    "\n",
    "### Instructions:\n",
    "In this lab assignment, you will create your own Jupyter notebook.  **DO NOT** submit this notebook **AS** your solution!!!!!\n",
    "\n",
    "\n",
    "### Deliverable:\n",
    "Create a new Jupyter notebook.  Include a code block and a markdown block.\n",
    "\n",
    "### Grading Criteria:\n",
    "\n",
    "Your lab assignment will be graded based on the following criteria:\n",
    "\n",
    "- Correctness of the implementation\n",
    "- Proper use of basic control structures and functions\n",
    "- Code efficiency\n",
    "- Clarity and readability of the code\n",
    "- Compliance with the instructions and deliverables.\n"
   ]
  }
 ],
 "metadata": {
  "kernelspec": {
   "display_name": "Python 3",
   "language": "python",
   "name": "python3"
  },
  "language_info": {
   "name": "python",
   "version": "3.10.0"
  },
  "orig_nbformat": 4
 },
 "nbformat": 4,
 "nbformat_minor": 2
}
